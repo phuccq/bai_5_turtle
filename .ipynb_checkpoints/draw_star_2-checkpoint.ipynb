{
 "cells": [
  {
   "cell_type": "code",
   "execution_count": null,
   "id": "cb1a6e27",
   "metadata": {},
   "outputs": [],
   "source": [
    "import turtle\n",
    "t.fillcolor('yellow')\n",
    "t.begin_fill()\n",
    "t.left(72)\n",
    "t.forward(100)\n",
    "t.right(144)\n",
    "t.forward(100)\n",
    "t.left(72)\n",
    "t.forward(100)\n",
    "t.right(144)\n",
    "t.forward(100)\n",
    "t.left(72)\n",
    "t.forward(100)\n",
    "t.right(144)\n",
    "t.forward(100)\n",
    "t.left(72)\n",
    "t.forward(100)\n",
    "t.right(144)\n",
    "t.forward(100)\n",
    "t.left(72)\n",
    "t.forward(100)\n",
    "t.right(144)\n",
    "t.forward(100)\n",
    "t.end_fill()\n",
    "turtle.done()"
   ]
  }
 ],
 "metadata": {
  "kernelspec": {
   "display_name": "Python 3",
   "language": "python",
   "name": "python3"
  },
  "language_info": {
   "codemirror_mode": {
    "name": "ipython",
    "version": 3
   },
   "file_extension": ".py",
   "mimetype": "text/x-python",
   "name": "python",
   "nbconvert_exporter": "python",
   "pygments_lexer": "ipython3",
   "version": "3.8.8"
  }
 },
 "nbformat": 4,
 "nbformat_minor": 5
}
